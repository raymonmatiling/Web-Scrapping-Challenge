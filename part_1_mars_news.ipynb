{
 "cells": [
  {
   "cell_type": "markdown",
   "metadata": {},
   "source": [
    "# Module 11 Challenge\n",
    "## Deliverable 1: Scrape Titles and Preview Text from Mars News"
   ]
  },
  {
   "cell_type": "code",
   "execution_count": 1,
   "metadata": {},
   "outputs": [],
   "source": [
    "# Import Splinter and BeautifulSoup\n",
    "from splinter import Browser\n",
    "from bs4 import BeautifulSoup \n",
    "\n",
    "import json"
   ]
  },
  {
   "cell_type": "code",
   "execution_count": 2,
   "metadata": {
    "scrolled": true
   },
   "outputs": [],
   "source": [
    "browser = Browser('chrome')"
   ]
  },
  {
   "cell_type": "markdown",
   "metadata": {},
   "source": [
    "### Step 1: Visit the Website\n",
    "\n",
    "1. Use automated browsing to visit the [Mars news site](https://static.bc-edx.com/data/web/mars_news/index.html). Inspect the page to identify which elements to scrape.\n",
    "\n",
    "      > **Hint** To identify which elements to scrape, you might want to inspect the page by using Chrome DevTools."
   ]
  },
  {
   "cell_type": "code",
   "execution_count": 3,
   "metadata": {},
   "outputs": [],
   "source": [
    "# Visit the Mars news site\n",
    "url = 'https://static.bc-edx.com/data/web/mars_news/index.html'\n",
    "browser.visit(url)"
   ]
  },
  {
   "cell_type": "markdown",
   "metadata": {},
   "source": [
    "### Step 2: Scrape the Website\n",
    "\n",
    "Create a Beautiful Soup object and use it to extract text elements from the website."
   ]
  },
  {
   "cell_type": "code",
   "execution_count": 4,
   "metadata": {},
   "outputs": [],
   "source": [
    "# Create a Beautiful Soup object\n",
    "html = browser.html\n",
    "soup = BeautifulSoup(html)"
   ]
  },
  {
   "cell_type": "code",
   "execution_count": 5,
   "metadata": {},
   "outputs": [
    {
     "name": "stdout",
     "output_type": "stream",
     "text": [
      "NASA Marks 25 Years Since Pathfinder Touched Down on Mars\n",
      "NASA's Perseverance Rover Captures Video of Solar Eclipse on Mars\n",
      "NASA, UAE Mars Missions Agree to Share Science Data\n",
      "Images and news content extracted from NASA's Mars News website on November 9, 2022.\n",
      "         Images used in accordance with the JPL Image Use Policy.\n",
      "This site is operated by edX Boot Camps LLC for educational purposes only.  \n",
      "            This is not a website endorsed by NASA. This website is intended only for internal academic purposes.\n"
     ]
    }
   ],
   "source": [
    "# Extract all the text elements\n",
    "all_text_elements = soup.find_all('p')  # Adjust 'p' to the actual HTML tag containing the text\n",
    "\n",
    "# Print the extracted text for each element\n",
    "for element in all_text_elements:\n",
    "    print(element.get_text())"
   ]
  },
  {
   "cell_type": "markdown",
   "metadata": {},
   "source": [
    "### Step 3: Store the Results\n",
    "\n",
    "Extract the titles and preview text of the news articles that you scraped. Store the scraping results in Python data structures as follows:\n",
    "\n",
    "* Store each title-and-preview pair in a Python dictionary. And, give each dictionary two keys: `title` and `preview`. An example is the following:\n",
    "\n",
    "  ```python\n",
    "  {'title': \"NASA's MAVEN Observes Martian Light Show Caused by Major Solar Storm\", \n",
    "   'preview': \"For the first time in its eight years orbiting Mars, NASA’s MAVEN mission witnessed two different types of ultraviolet aurorae simultaneously, the result of solar storms that began on Aug. 27.\"\n",
    "  }\n",
    "  ```\n",
    "\n",
    "* Store all the dictionaries in a Python list.\n",
    "\n",
    "* Print the list in your notebook."
   ]
  },
  {
   "cell_type": "code",
   "execution_count": 6,
   "metadata": {},
   "outputs": [],
   "source": [
    "# Create an empty list to store the dictionaries\n",
    "news_dict_list = []"
   ]
  },
  {
   "cell_type": "code",
   "execution_count": 7,
   "metadata": {},
   "outputs": [],
   "source": [
    "# Locate the section containing news articles\n",
    "news_section = soup.find('div', class_='col-md-12')\n",
    "\n",
    "# Extract all the news article containers within the news section\n",
    "article_containers = news_section.select('.list_text')"
   ]
  },
  {
   "cell_type": "code",
   "execution_count": 8,
   "metadata": {},
   "outputs": [
    {
     "name": "stdout",
     "output_type": "stream",
     "text": [
      "Title: NASA's MAVEN Observes Martian Light Show Caused by Major Solar Storm\n",
      "Preview: For the first time in its eight years orbiting Mars, NASA’s MAVEN mission witnessed two different types of ultraviolet aurorae simultaneously, the result of solar storms that began on Aug. 27.\n",
      "\n",
      "Title: NASA Prepares to Say 'Farewell' to InSight Spacecraft\n",
      "Preview: A closer look at what goes into wrapping up the mission as the spacecraft’s power supply continues to dwindle.\n",
      "\n",
      "Title: NASA and ESA Agree on Next Steps to Return Mars Samples to Earth\n",
      "Preview: The agency’s Perseverance rover will establish the first sample depot on Mars.\n",
      "\n",
      "Title: NASA's InSight Lander Detects Stunning Meteoroid Impact on Mars\n",
      "Preview: The agency’s lander felt the ground shake during the impact while cameras aboard the Mars Reconnaissance Orbiter spotted the yawning new crater from space.\n",
      "\n",
      "Title: NASA To Host Briefing on InSight, Mars Reconnaissance Orbiter Findings\n",
      "Preview: Scientists from two Mars missions will discuss how they combined images and data for a major finding on the Red Planet.\n",
      "\n",
      "Title: Why NASA Is Trying To Crash Land on Mars\n",
      "Preview: Like a car’s crumple zone, the experimental SHIELD lander is designed to absorb a hard impact.\n",
      "\n",
      "Title: Curiosity Mars Rover Reaches Long-Awaited Salty Region\n",
      "Preview: After years of climbing, the Mars rover has arrived at a special region believed to have formed as Mars’ climate was drying.\n",
      "\n",
      "Title: Mars Mission Shields Up for Tests\n",
      "Preview: Protecting Mars Sample Return spacecraft from micrometeorites requires high-caliber work.\n",
      "\n",
      "Title: NASA's InSight Waits Out Dust Storm\n",
      "Preview: InSight’s team is taking steps to help the solar-powered lander continue operating for as long as possible.\n",
      "\n",
      "Title: NASA's InSight 'Hears' Its First Meteoroid Impacts on Mars\n",
      "Preview: The Mars lander’s seismometer has picked up vibrations from four separate impacts in the past two years.\n",
      "\n",
      "Title: NASA's Perseverance Rover Investigates Geologically Rich Mars Terrain\n",
      "Preview: The latest findings provide greater detail on a region of the Red Planet that has a watery past and is yielding promising samples for the NASA-ESA Mars Sample Return campaign.\n",
      "\n",
      "Title: NASA to Host Briefing on Perseverance Mars Rover Mission Operations\n",
      "Preview: Members of the mission will discuss the rover’s activities as it gathers samples in an ancient river delta.\n",
      "\n",
      "Title: NASA's Perseverance Makes New Discoveries in Mars' Jezero Crater\n",
      "Preview: The rover found that Jezero Crater’s floor is made up of volcanic rocks that have interacted with water.\n",
      "\n",
      "Title: 10 Years Since Landing, NASA's Curiosity Mars Rover Still Has Drive\n",
      "Preview: Despite signs of wear, the intrepid spacecraft is about to start an exciting new chapter of its mission as it climbs a Martian mountain.\n",
      "\n",
      "Title: SAM's Top 5 Discoveries Aboard NASA's Curiosity Rover at Mars\n",
      "Preview: “Selfie” of the Curiosity rover with inset showing the SAM instrument prior to installation on the rover.\n",
      "\n",
      "\n"
     ]
    }
   ],
   "source": [
    "# Loop through the article containers\n",
    "for container in article_containers:\n",
    "    # Extract title and preview from the container\n",
    "    title = container.find('div', class_='content_title').get_text()\n",
    "    preview = container.find('div', class_='article_teaser_body').get_text()\n",
    "\n",
    "    # Store each title and preview pair in a dictionary\n",
    "    article_data = {'title': title, 'preview': preview}\n",
    "\n",
    "    # Add the dictionary to the list\n",
    "    news_dict_list.append(article_data)\n",
    "\n",
    "    # Print the current dictionary for each iteration\n",
    "    print(\"Title:\", title)\n",
    "    print(\"Preview:\", preview)\n",
    "    print()\n",
    "\n",
    "# Add a space to separate the list visually\n",
    "print()"
   ]
  },
  {
   "cell_type": "code",
   "execution_count": 9,
   "metadata": {},
   "outputs": [
    {
     "name": "stdout",
     "output_type": "stream",
     "text": [
      "[{'title': \"NASA's MAVEN Observes Martian Light Show Caused by Major Solar Storm\" ,\n",
      "'preview': 'For the first time in its eight years orbiting Mars, NASA’s MAVEN mission witnessed two different types of ultraviolet aurorae simultaneously, the result of solar storms that began on Aug. 27.' },\n",
      "\n",
      "[{'title': \"NASA Prepares to Say 'Farewell' to InSight Spacecraft\" ,\n",
      "'preview': 'A closer look at what goes into wrapping up the mission as the spacecraft’s power supply continues to dwindle.' },\n",
      "\n",
      "[{'title': 'NASA and ESA Agree on Next Steps to Return Mars Samples to Earth' ,\n",
      "'preview': 'The agency’s Perseverance rover will establish the first sample depot on Mars.' },\n",
      "\n",
      "[{'title': \"NASA's InSight Lander Detects Stunning Meteoroid Impact on Mars\" ,\n",
      "'preview': 'The agency’s lander felt the ground shake during the impact while cameras aboard the Mars Reconnaissance Orbiter spotted the yawning new crater from space.' },\n",
      "\n",
      "[{'title': 'NASA To Host Briefing on InSight, Mars Reconnaissance Orbiter Findings' ,\n",
      "'preview': 'Scientists from two Mars missions will discuss how they combined images and data for a major finding on the Red Planet.' },\n",
      "\n",
      "[{'title': 'Why NASA Is Trying To Crash Land on Mars' ,\n",
      "'preview': 'Like a car’s crumple zone, the experimental SHIELD lander is designed to absorb a hard impact.' },\n",
      "\n",
      "[{'title': 'Curiosity Mars Rover Reaches Long-Awaited Salty Region' ,\n",
      "'preview': 'After years of climbing, the Mars rover has arrived at a special region believed to have formed as Mars’ climate was drying.' },\n",
      "\n",
      "[{'title': 'Mars Mission Shields Up for Tests' ,\n",
      "'preview': 'Protecting Mars Sample Return spacecraft from micrometeorites requires high-caliber work.' },\n",
      "\n",
      "[{'title': \"NASA's InSight Waits Out Dust Storm\" ,\n",
      "'preview': 'InSight’s team is taking steps to help the solar-powered lander continue operating for as long as possible.' },\n",
      "\n",
      "[{'title': \"NASA's InSight 'Hears' Its First Meteoroid Impacts on Mars\" ,\n",
      "'preview': 'The Mars lander’s seismometer has picked up vibrations from four separate impacts in the past two years.' },\n",
      "\n",
      "[{'title': \"NASA's Perseverance Rover Investigates Geologically Rich Mars Terrain\" ,\n",
      "'preview': 'The latest findings provide greater detail on a region of the Red Planet that has a watery past and is yielding promising samples for the NASA-ESA Mars Sample Return campaign.' },\n",
      "\n",
      "[{'title': 'NASA to Host Briefing on Perseverance Mars Rover Mission Operations' ,\n",
      "'preview': 'Members of the mission will discuss the rover’s activities as it gathers samples in an ancient river delta.' },\n",
      "\n",
      "[{'title': \"NASA's Perseverance Makes New Discoveries in Mars' Jezero Crater\" ,\n",
      "'preview': 'The rover found that Jezero Crater’s floor is made up of volcanic rocks that have interacted with water.' },\n",
      "\n",
      "[{'title': \"10 Years Since Landing, NASA's Curiosity Mars Rover Still Has Drive\" ,\n",
      "'preview': 'Despite signs of wear, the intrepid spacecraft is about to start an exciting new chapter of its mission as it climbs a Martian mountain.' },\n",
      "\n",
      "[{'title': \"SAM's Top 5 Discoveries Aboard NASA's Curiosity Rover at Mars\" ,\n",
      "'preview': '“Selfie” of the Curiosity rover with inset showing the SAM instrument prior to installation on the rover.' },\n",
      "\n"
     ]
    }
   ],
   "source": [
    "# Print the list to confirm success\n",
    "for data in news_dict_list:\n",
    "    print(\"[{'title':\", repr(data['title']), \",\")\n",
    "    print(\"'preview':\", repr(data['preview']), \"},\")\n",
    "    print()"
   ]
  },
  {
   "cell_type": "code",
   "execution_count": 10,
   "metadata": {},
   "outputs": [],
   "source": [
    "# Optional save to JSON file\n",
    "with open(\"mars_news.json\", \"w\", encoding=\"utf-8\") as json_file:\n",
    "    json.dump(news_dict_list, json_file, indent=4)"
   ]
  },
  {
   "cell_type": "code",
   "execution_count": 11,
   "metadata": {},
   "outputs": [],
   "source": [
    "browser.quit()"
   ]
  },
  {
   "cell_type": "code",
   "execution_count": null,
   "metadata": {},
   "outputs": [],
   "source": []
  }
 ],
 "metadata": {
  "kernelspec": {
   "display_name": "Python 3 (ipykernel)",
   "language": "python",
   "name": "python3"
  },
  "language_info": {
   "codemirror_mode": {
    "name": "ipython",
    "version": 3
   },
   "file_extension": ".py",
   "mimetype": "text/x-python",
   "name": "python",
   "nbconvert_exporter": "python",
   "pygments_lexer": "ipython3",
   "version": "3.10.13"
  },
  "vscode": {
   "interpreter": {
    "hash": "31f2aee4e71d21fbe5cf8b01ff0e069b9275f58929596ceb00d14d90e3e16cd6"
   }
  }
 },
 "nbformat": 4,
 "nbformat_minor": 4
}
